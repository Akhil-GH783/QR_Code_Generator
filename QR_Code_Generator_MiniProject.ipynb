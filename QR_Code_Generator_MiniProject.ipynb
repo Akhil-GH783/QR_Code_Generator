{
 "cells": [
  {
   "cell_type": "code",
   "execution_count": 1,
   "metadata": {},
   "outputs": [
    {
     "name": "stdout",
     "output_type": "stream",
     "text": [
      "Collecting pyqrcode\n",
      "  Downloading PyQRCode-1.2.1.tar.gz (36 kB)\n",
      "Building wheels for collected packages: pyqrcode\n",
      "  Building wheel for pyqrcode (setup.py): started\n",
      "  Building wheel for pyqrcode (setup.py): finished with status 'done'\n",
      "  Created wheel for pyqrcode: filename=PyQRCode-1.2.1-py3-none-any.whl size=36250 sha256=d0974dbc1ab5cc7031a3beae02c06d7ebee416019940ebcf3dd873a34e761960\n",
      "  Stored in directory: c:\\users\\amrutha\\appdata\\local\\pip\\cache\\wheels\\e1\\1a\\48\\c9d6b7295d3750a8d38001a2a3e86d8816e2e90964a0cc73cd\n",
      "Successfully built pyqrcode\n",
      "Installing collected packages: pyqrcode\n",
      "Successfully installed pyqrcode-1.2.1\n",
      "Enter the link of which QR code is required:-https://www.youtube.com/\n",
      "The QR Code of link provided by your is saved in an image in the directory you are working, have a good day:))\n"
     ]
    }
   ],
   "source": [
    "!pip install pyqrcode\n",
    "\n",
    "import pyqrcode \n",
    "from pyqrcode import QRCode\n",
    "\n",
    "#String which represent the QR code\n",
    "s = input(\"Enter the link of which QR code is required:-\")\n",
    "\n",
    "#Generate QR code\n",
    "url = pyqrcode.create(s)\n",
    "\n",
    "#Create and save the png file naming \"myqr.png\"\n",
    "url.svg(\"myqrcode.svg\", scale = 8)\n",
    "\n",
    "print(\"The QR Code of link provided by your is saved in an image in the directory you are working, have a good day:))\")"
   ]
  },
  {
   "cell_type": "code",
   "execution_count": null,
   "metadata": {},
   "outputs": [],
   "source": []
  }
 ],
 "metadata": {
  "kernelspec": {
   "display_name": "Python 3",
   "language": "python",
   "name": "python3"
  },
  "language_info": {
   "codemirror_mode": {
    "name": "ipython",
    "version": 3
   },
   "file_extension": ".py",
   "mimetype": "text/x-python",
   "name": "python",
   "nbconvert_exporter": "python",
   "pygments_lexer": "ipython3",
   "version": "3.8.5"
  }
 },
 "nbformat": 4,
 "nbformat_minor": 4
}
